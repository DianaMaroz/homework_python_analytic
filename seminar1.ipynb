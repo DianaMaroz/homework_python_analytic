{
 "cells": [
  {
   "cell_type": "markdown",
   "id": "e1663474",
   "metadata": {},
   "source": [
    "# Семинар 1"
   ]
  },
  {
   "cell_type": "markdown",
   "id": "3b50b2da",
   "metadata": {},
   "source": [
    "## задача 1"
   ]
  },
  {
   "cell_type": "markdown",
   "id": "57f2414b",
   "metadata": {},
   "source": [
    "### 1.1 Соедините два словаря в один"
   ]
  },
  {
   "cell_type": "code",
   "execution_count": 1,
   "id": "47e77c62",
   "metadata": {},
   "outputs": [],
   "source": [
    "dict1 = {'one':1, 'two': 2, 'three':3}\n",
    "dict2 = {'four':4, 'five': 5, 'six':6}"
   ]
  },
  {
   "cell_type": "code",
   "execution_count": 2,
   "id": "7d6d04c5",
   "metadata": {},
   "outputs": [
    {
     "data": {
      "text/plain": [
       "{'one': 1, 'two': 2, 'three': 3, 'four': 4, 'five': 5, 'six': 6}"
      ]
     },
     "execution_count": 2,
     "metadata": {},
     "output_type": "execute_result"
    }
   ],
   "source": [
    "dict1.update(dict2)\n",
    "dict1"
   ]
  },
  {
   "cell_type": "markdown",
   "id": "e2648636",
   "metadata": {},
   "source": [
    "### 1.2 Напишите функцию, которая на вход принимает два словаря и возвращает один объединенный словарь\n",
    "используйте аннотирование типов"
   ]
  },
  {
   "cell_type": "code",
   "execution_count": 3,
   "id": "6e5fb530",
   "metadata": {},
   "outputs": [],
   "source": [
    "def unate_dict(dict_a: dict, dict_b: dict) -> dict:\n",
    "    dict_a.update(dict_b)\n",
    "    return dict_a"
   ]
  },
  {
   "cell_type": "code",
   "execution_count": 4,
   "id": "7608ea1c",
   "metadata": {},
   "outputs": [
    {
     "data": {
      "text/plain": [
       "{'one': 1, 'two': 2, 'three': 3, 'four': 4, 'five': 5, 'six': 6}"
      ]
     },
     "execution_count": 4,
     "metadata": {},
     "output_type": "execute_result"
    }
   ],
   "source": [
    "un_dict = unate_dict(dict1, dict2)\n",
    "un_dict"
   ]
  },
  {
   "cell_type": "markdown",
   "id": "cb3f208e",
   "metadata": {},
   "source": [
    "d.update(d_other) - позволяет дополнять данные словаря или обновлять их (в аргументе должен быть другой словарь)\n",
    "\n",
    "d3 = merge(d1, d2) - позволяет сложить два словаря и сохранить в новый словарь\n",
    "\n",
    "d3 = d1 | d2 - позволяет сложить два словаря и сохранить в новый словарь\n",
    "\n",
    "d3 = {**d1, **d2}\n"
   ]
  },
  {
   "cell_type": "markdown",
   "id": "22391cd7",
   "metadata": {},
   "source": [
    "## Задача 2\n",
    "Напишите функцию, которая из двух списков, делает один словарь, где элементы из первого списка - ключи, а элементы из второго списка - значения\n",
    "\n",
    "\n",
    "Используйте аннотирование типов\n",
    "\n",
    "### 2.1 Используя цикл for\n"
   ]
  },
  {
   "cell_type": "code",
   "execution_count": 5,
   "id": "e793edeb",
   "metadata": {},
   "outputs": [],
   "source": [
    "keys = ['one', 'two', 'three']\n",
    "values = [1, 2, 3]"
   ]
  },
  {
   "cell_type": "code",
   "execution_count": 6,
   "id": "0c841a37",
   "metadata": {},
   "outputs": [],
   "source": [
    "def dict_from_list(keys_list: list, values_list: list) -> dict:\n",
    "    new_dict = {}\n",
    "    for i in range(len(keys_list)):\n",
    "        new_dict[keys_list[i]]=values_list[i]\n",
    "    return new_dict"
   ]
  },
  {
   "cell_type": "code",
   "execution_count": 7,
   "id": "610a2045",
   "metadata": {},
   "outputs": [
    {
     "data": {
      "text/plain": [
       "{'one': 1, 'two': 2, 'three': 3}"
      ]
     },
     "execution_count": 7,
     "metadata": {},
     "output_type": "execute_result"
    }
   ],
   "source": [
    "dict_3 = dict_from_list(keys, values)\n",
    "dict_3"
   ]
  },
  {
   "cell_type": "markdown",
   "id": "fc4fda14",
   "metadata": {},
   "source": [
    "\n",
    "### 2.2 Используя list comprehension\n"
   ]
  },
  {
   "cell_type": "code",
   "execution_count": 8,
   "id": "20f1eab4",
   "metadata": {},
   "outputs": [],
   "source": [
    "def dict_from_list_compr(keys_list: list, values_list: list) -> dict:\n",
    "    return {keys_list[i]:values_list[i] for i in range(len(keys))}"
   ]
  },
  {
   "cell_type": "code",
   "execution_count": 9,
   "id": "9bed2562",
   "metadata": {},
   "outputs": [
    {
     "data": {
      "text/plain": [
       "{'one': 1, 'two': 2, 'three': 3}"
      ]
     },
     "execution_count": 9,
     "metadata": {},
     "output_type": "execute_result"
    }
   ],
   "source": [
    "dict_4 = dict_from_list_compr(keys, values)\n",
    "dict_4"
   ]
  },
  {
   "cell_type": "markdown",
   "id": "ac570c81",
   "metadata": {},
   "source": [
    "## Задача 3\n",
    "Извлеките только два ключа name и age из представленного словаря\n"
   ]
  },
  {
   "cell_type": "markdown",
   "id": "26099ddd",
   "metadata": {},
   "source": [
    "###  3.1  Напишите функцию с циклом for\n",
    "Функция на вход принимает:\n",
    "исходный словарь\n",
    "ключи, которые нужно извлечь (аргумент по умолчанию)\n",
    "На выходе словарь с нужными ключами\n",
    "Используйте аннотирование типов\n"
   ]
  },
  {
   "cell_type": "code",
   "execution_count": 10,
   "id": "6de3dcad",
   "metadata": {},
   "outputs": [],
   "source": [
    "client_dict = {\n",
    "\"name\": \"John\",\n",
    "\"age\": 25,\n",
    "\"salary\": 5000,\n",
    "\"city\": \"Moscow\"\n",
    "}"
   ]
  },
  {
   "cell_type": "code",
   "execution_count": 11,
   "id": "a9cb19f7",
   "metadata": {},
   "outputs": [],
   "source": [
    "def make_new_dict_by_keys(start_dict: dict, *keys: str) -> dict:\n",
    "    new_dict = {}\n",
    "    for key in keys:\n",
    "        new_dict[key] = start_dict.get(key, 'в стартовом словаре такого ключа нет')\n",
    "    return new_dict"
   ]
  },
  {
   "cell_type": "code",
   "execution_count": 12,
   "id": "ce48e76e",
   "metadata": {},
   "outputs": [
    {
     "data": {
      "text/plain": [
       "{'name': 'John', 'age': 25, 'wage': 'в стартовом словаре такого ключа нет'}"
      ]
     },
     "execution_count": 12,
     "metadata": {},
     "output_type": "execute_result"
    }
   ],
   "source": [
    "dict_5 = make_new_dict_by_keys(client_dict,\"name\", \"age\", 'wage' )\n",
    "dict_5"
   ]
  },
  {
   "cell_type": "markdown",
   "id": "53222c96",
   "metadata": {},
   "source": [
    "### 3.2 Используя dict comprehensions"
   ]
  },
  {
   "cell_type": "code",
   "execution_count": 13,
   "id": "3fcfc737",
   "metadata": {},
   "outputs": [],
   "source": [
    "def make_new_dict_by_keys_compr(start_dict: dict, *keys: str) -> dict:\n",
    "    return {key:start_dict.get(key, 'в стартовом словаре такого ключа нет') for key in keys}"
   ]
  },
  {
   "cell_type": "code",
   "execution_count": 14,
   "id": "100d5642",
   "metadata": {},
   "outputs": [
    {
     "data": {
      "text/plain": [
       "{'name': 'John', 'age': 25, 'wage': 'в стартовом словаре такого ключа нет'}"
      ]
     },
     "execution_count": 14,
     "metadata": {},
     "output_type": "execute_result"
    }
   ],
   "source": [
    "dict_6 = make_new_dict_by_keys_compr(client_dict,\"name\", \"age\", 'wage' )\n",
    "dict_6"
   ]
  },
  {
   "cell_type": "code",
   "execution_count": 15,
   "id": "466a14ca",
   "metadata": {},
   "outputs": [],
   "source": [
    "def make_new_dict_from_tuple(start_dict: dict, keys:tuple = ('name', 'age')) -> dict:\n",
    "    new_dict = {}\n",
    "    for key in keys:\n",
    "        new_dict.setdefault(key, start_dict[key])\n",
    "    return new_dict"
   ]
  },
  {
   "cell_type": "code",
   "execution_count": 16,
   "id": "3f4ad8e5",
   "metadata": {
    "scrolled": true
   },
   "outputs": [
    {
     "data": {
      "text/plain": [
       "{'name': 'John', 'age': 25}"
      ]
     },
     "execution_count": 16,
     "metadata": {},
     "output_type": "execute_result"
    }
   ],
   "source": [
    "dict_7 = make_new_dict_from_tuple(client_dict )\n",
    "dict_7"
   ]
  },
  {
   "cell_type": "markdown",
   "id": "0fde2a06",
   "metadata": {},
   "source": [
    "## Задача 4\n",
    "### 4.1 Сгенерируйте случайные целые числа от 0 до 100 в количестве 5 штук с помощью модуля random\n",
    "Зафиксируйте псевдогенерацию, чтобы сгенерированные значения всегда были одинаковые\n",
    "Используйте list comprehension\n"
   ]
  },
  {
   "cell_type": "code",
   "execution_count": 45,
   "id": "df653681",
   "metadata": {},
   "outputs": [],
   "source": [
    "import random\n",
    "from time import time, sleep"
   ]
  },
  {
   "cell_type": "code",
   "execution_count": 24,
   "id": "bfeda56d",
   "metadata": {
    "scrolled": true
   },
   "outputs": [
    {
     "data": {
      "text/plain": [
       "[48, 98, 1, 27, 39]"
      ]
     },
     "execution_count": 24,
     "metadata": {},
     "output_type": "execute_result"
    }
   ],
   "source": [
    "random.seed(25)\n",
    "random_list_1 = [random.randint(0,100) for i in range(5)]\n",
    "random_list_1"
   ]
  },
  {
   "cell_type": "markdown",
   "id": "ca216ab8",
   "metadata": {},
   "source": [
    "## 4.2* Напишите генератор\n",
    "Генератор на вход принимает список с данными о клиенте (данные из пункта 4.1)\n",
    "Внутри генератора реализуйте обход по списку с данными\n",
    "На каждой итерации генератор будет возвращать кортеж из двух элементов:\n",
    "данные по клиенту (в зависимости от итерации, на 0 итерации вернется 0 элемент, на 1 итерации вернется 1 элемент и тд)\n",
    "целочисленное значение, которое показывает, сколько секунд прошло с предыдущей итерации\n",
    "Примечание: секунды, которые возвращаются должны показывать время не с начала запуска генератора, а именно то время, которое прошло с предыдущей итерации. А значит время на первой итерации должно равняться 0.\n",
    "Используйте функцию time из модуля time для подсчета времени.\n",
    "Чтобы проверить работу таймера, запустите проход по генератору в цикле с time.sleep(2)"
   ]
  },
  {
   "cell_type": "code",
   "execution_count": 51,
   "id": "149a30ff",
   "metadata": {},
   "outputs": [],
   "source": [
    "def from_list_to_tuple (my_list: list) -> tuple:\n",
    "    start_time = round(time())\n",
    "    for i in range(len(my_list)):\n",
    "        time_now = round(time())\n",
    "        yield (my_list[i], time_now - start_time)\n",
    "        start_time = round(time_now)\n",
    "    "
   ]
  },
  {
   "cell_type": "code",
   "execution_count": 52,
   "id": "0ef8a171",
   "metadata": {
    "scrolled": true
   },
   "outputs": [
    {
     "name": "stdout",
     "output_type": "stream",
     "text": [
      "(48, 0)\n",
      "(98, 2)\n",
      "(1, 2)\n",
      "(27, 2)\n",
      "(39, 2)\n"
     ]
    }
   ],
   "source": [
    "for g in from_list_to_tuple(random_list_1):\n",
    "    print(g)\n",
    "    sleep(2)\n"
   ]
  },
  {
   "cell_type": "markdown",
   "id": "fb4b145c",
   "metadata": {},
   "source": [
    "## Задача 5\n",
    "### 5.1 Найдите картинку в интернете и прикрепите её в ячейку с текстом\n"
   ]
  },
  {
   "cell_type": "markdown",
   "id": "b858417e",
   "metadata": {},
   "source": [
    "<img src='https://www.1zoom.ru/big2/541/255095-Sepik.jpg' > "
   ]
  },
  {
   "cell_type": "markdown",
   "id": "bad59e69",
   "metadata": {},
   "source": [
    "### 5.2 Создайте следующую таблицу в ячейке с текстом"
   ]
  },
  {
   "cell_type": "markdown",
   "id": "c8671868",
   "metadata": {},
   "source": [
    "<table>\n",
    "    <tr> \n",
    "        <td> </td>\n",
    "        <td>до события</td>\n",
    "        <td>во время</td>\n",
    "    </tr>\n",
    "    <tr> \n",
    "        <td>первая контрольная точка</td>\n",
    "        <td>250</td>\n",
    "        <td>500</td>\n",
    "    </tr>\n",
    "       <tr> \n",
    "        <td>вторая контрольная точка</td>\n",
    "        <td>350</td>\n",
    "        <td>700</td>\n",
    "    </tr>\n",
    "       <tr> \n",
    "        <td>третья контрольная точка</td>\n",
    "        <td>400</td>\n",
    "        <td>800</td>\n",
    "    </tr>\n",
    "       <tr> \n",
    "        <td>Итого</td>\n",
    "        <td>1000</td>\n",
    "        <td>2000</td>\n",
    "    </tr> \n",
    "</table>"
   ]
  },
  {
   "cell_type": "markdown",
   "id": "805f844d",
   "metadata": {},
   "source": [
    "## Задача 6\n",
    "Напишите функцию, которая может принимать любое количество трат пользователя и считать сумму и среднее.\n",
    "На вход поступают целочисленные значения в любом количестве\n",
    "На выходе словарь с ключами суммы трат и средней траты"
   ]
  },
  {
   "cell_type": "code",
   "execution_count": 56,
   "id": "e4dd5fa2",
   "metadata": {},
   "outputs": [],
   "source": [
    "def sum_and_avg (*args: int)->dict:\n",
    "    return {sum(args): (sum(args)/len(args))}"
   ]
  },
  {
   "cell_type": "code",
   "execution_count": 57,
   "id": "84c91172",
   "metadata": {},
   "outputs": [
    {
     "data": {
      "text/plain": [
       "{100: 25.0}"
      ]
     },
     "execution_count": 57,
     "metadata": {},
     "output_type": "execute_result"
    }
   ],
   "source": [
    "my_dict = sum_and_avg(12, 33, 15, 40)\n",
    "my_dict"
   ]
  },
  {
   "cell_type": "code",
   "execution_count": null,
   "id": "8dcd8953",
   "metadata": {},
   "outputs": [],
   "source": []
  }
 ],
 "metadata": {
  "kernelspec": {
   "display_name": "Python 3 (ipykernel)",
   "language": "python",
   "name": "python3"
  },
  "language_info": {
   "codemirror_mode": {
    "name": "ipython",
    "version": 3
   },
   "file_extension": ".py",
   "mimetype": "text/x-python",
   "name": "python",
   "nbconvert_exporter": "python",
   "pygments_lexer": "ipython3",
   "version": "3.9.13"
  }
 },
 "nbformat": 4,
 "nbformat_minor": 5
}
